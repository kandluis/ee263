{
 "cells": [
  {
   "cell_type": "markdown",
   "metadata": {},
   "source": [
    "# HW 5\n",
    "Author: Luis A. Perez\n",
    "\n",
    "Last Updated: July 27th, 2019"
   ]
  },
  {
   "cell_type": "code",
   "execution_count": 206,
   "metadata": {},
   "outputs": [],
   "source": [
    "import numpy as np\n",
    "import seaborn as sns\n",
    "from scipy import linalg"
   ]
  },
  {
   "cell_type": "markdown",
   "metadata": {},
   "source": [
    "## Problem 1: The smoothest input that takes the state to zero."
   ]
  },
  {
   "cell_type": "code",
   "execution_count": 12,
   "metadata": {},
   "outputs": [],
   "source": [
    "# We follow the outline defined in the homework.\n",
    "def solveProblem1(A, B, x0, n):\n",
    "    \"\"\"Solves to find the smoothest inputs u(t) such that the system:\n",
    "        \n",
    "        x(t + 1) = Ax(t) + Bu(t)\n",
    "    \n",
    "    will have x(n) = 0.\n",
    "    \n",
    "    B must be a vector (not matrix). A must be squared.\n",
    "    \"\"\"\n",
    "    assert B.shape[1] == 1\n",
    "    assert A.shape[0] == A.shape[1]\n",
    "    CBlockColumns = []\n",
    "    currA = np.identity(A.shape[0])\n",
    "    for i in range(n):\n",
    "        CBlockColumns.append(np.dot(currA, B))\n",
    "        currA = np.dot(currA, A)\n",
    "    C = np.concatenate(CBlockColumns, axis=1)\n",
    "    A20 = currA\n",
    "    y = -np.dot(A20, x0)\n",
    "    # Upper triangular with 1s. Only applies when B is vector.\n",
    "    T = np.triu(np.ones((n,n)))\n",
    "    D = np.dot(C,T)\n",
    "    delta = np.dot(D.T,\n",
    "                   np.dot(np.linalg.inv(np.dot(D,\n",
    "                                               D.T\n",
    "                                              )),\n",
    "                          y\n",
    "                         )\n",
    "                  )\n",
    "    u = np.dot(T, delta)\n",
    "    RMSE = 1 / np.sqrt(n) * np.linalg.norm(delta)\n",
    "    print(\"The RMSE of the data is %s.\" % (RMSE))\n",
    "    \n",
    "    # Plot the values of u.\n",
    "    ax = sns.scatterplot(x=np.arange(0,20,1), y=np.flip(u.flatten()))\n",
    "    ax.set_title(\"Smoothed Inputs\")\n",
    "    ax.set(ylabel='Input Value', xlabel='Time')\n",
    "    ax.get_figure().savefig('smoothed_inputs')"
   ]
  },
  {
   "cell_type": "code",
   "execution_count": 13,
   "metadata": {},
   "outputs": [
    {
     "name": "stdout",
     "output_type": "stream",
     "text": [
      "The RMSE of the data is 1.124615543256077.\n"
     ]
    },
    {
     "data": {
      "image/png": "[encoded data removed]",
      "text/plain": [
       "<Figure size 432x288 with 1 Axes>"
      ]
     },
     "metadata": {
      "needs_background": "light"
     },
     "output_type": "display_data"
    }
   ],
   "source": [
    "def getProblem1Constants():\n",
    "    \"\"\"Returns (A,B,x0,n) as defined for Problem 1.\"\"\"\n",
    "    A = np.array([\n",
    "        [1.0, 0.5, 0.25],\n",
    "        [0.25, 0.0, 1.0],\n",
    "        [1.0, -0.5, 0.0]\n",
    "    ])\n",
    "    B = np.array([\n",
    "        [1.0],\n",
    "        [0.1],\n",
    "        [0.5]\n",
    "    ])\n",
    "    x0 = np.array([\n",
    "        [25.0],\n",
    "        [0.0],\n",
    "        [-25],\n",
    "    ])\n",
    "    return (A, B, x0, 20)\n",
    "solveProblem1(*getProblem1Constants())"
   ]
  },
  {
   "cell_type": "code",
   "execution_count": 14,
   "metadata": {},
   "outputs": [],
   "source": [
    "## Problem 2: Minimum fuel and minimum peak input solutions."
   ]
  },
  {
   "cell_type": "code",
   "execution_count": 132,
   "metadata": {},
   "outputs": [],
   "source": [
    "def getProblem2Inputs():\n",
    "    n = 10\n",
    "    A = np.array([\n",
    "        list([i + 0.5 for i in range(n-1,-1, -1)]),\n",
    "        [1] * n\n",
    "    ])\n",
    "    y = np.array([\n",
    "        [1.0],\n",
    "        [0.0]\n",
    "    ])\n",
    "    xmf = np.array([1/n] + ([0] * (n-2)) + [-1/n])\n",
    "    xmf.shape = (xmf.shape[0], 1)\n",
    "    return A, y, xmf, n\n",
    "\n",
    "def solveProblem2(A, y, xmf, n):\n",
    "    xls = np.dot(A.T, np.dot(np.linalg.inv(np.dot(A,A.T)), y))\n",
    "    # Verify norm lf xls is < norm of xmf.\n",
    "    xmfNorm = np.linalg.norm(xmf, ord=1)\n",
    "    xlsNorm = np.linalg.norm(xls, ord=1)\n",
    "    \n",
    "    # verify norms.\n",
    "    print(\"The $x_{\\\\text{ls}}$ norm is $%s$ and the $x_{\\\\text{mf}}$ is $%s$.\" % (xlsNorm, xmfNorm))\n",
    "    assert xmfNorm < xlsNorm\n",
    "    \n",
    "    # compute xmp\n",
    "    xmp = 1/25 * np.array([[1], [1], [1], [1], [1], [-1], [-1], [-1], [-1], [-1]])\n",
    "    \n",
    "    # verify it is a solution to our system\n",
    "    assert np.allclose(y, np.dot(A, xmp))\n",
    "    print(\"Verified x_{mf} solves system of equations.\")\n",
    "    \n",
    "    # verify its infinitynorm is equal to what we want.\n",
    "    xmpNorm = np.linalg.norm(xmp, ord=np.inf)\n",
    "    lam = np.array([[1],[-5]])\n",
    "    xmpMin = np.dot(lam.T, y) / np.linalg.norm(np.dot(A.T, lam), ord=1)\n",
    "    assert np.allclose(xmpMin, xmpNorm)\n",
    "    print(\"Verified infinity norm of x_{mf} is minimum.\")"
   ]
  },
  {
   "cell_type": "code",
   "execution_count": 133,
   "metadata": {},
   "outputs": [
    {
     "name": "stdout",
     "output_type": "stream",
     "text": [
      "The $x_{\\text{ls}}$ norm is $0.3030303030303031$ and the $x_{\\text{mf}}$ is $0.2$.\n",
      "Verified x_{mf} solves system of equations.\n",
      "Verified infinity norm of x_{mf} is minimum.\n"
     ]
    }
   ],
   "source": [
    "solveProblem2(*getProblem2Inputs())"
   ]
  },
  {
   "cell_type": "markdown",
   "metadata": {},
   "source": [
    "## Problem 4: Singularity of the KKT matrix"
   ]
  },
  {
   "cell_type": "code",
   "execution_count": 140,
   "metadata": {},
   "outputs": [],
   "source": [
    "def getProblem4Inputs():\n",
    "    # data for sector neutral portfolio selection problem\n",
    "\n",
    "    # number of assets\n",
    "    n = 40\n",
    "    # number of sectors\n",
    "    k = 10\n",
    "    # risk aversion parameter\n",
    "    lam = 1.000000e-01\n",
    "\n",
    "    # asset mean returns\n",
    "    mu = np.array([\n",
    "        [-5.724206e-03],\n",
    "        [-5.738256e-02],\n",
    "        [-2.066057e-02],\n",
    "        [3.954949e-02],\n",
    "        [6.380350e-02],\n",
    "        [-3.452340e-02],\n",
    "        [-4.097040e-03],\n",
    "        [-4.511063e-02],\n",
    "        [3.559544e-02],\n",
    "        [8.854415e-02],\n",
    "        [-6.551461e-02],\n",
    "        [-1.581188e-01],\n",
    "        [-1.900198e-01],\n",
    "        [-6.725867e-02],\n",
    "        [-9.943040e-02],\n",
    "        [1.582090e-02],\n",
    "        [6.838301e-02],\n",
    "        [-5.363577e-02],\n",
    "        [-4.637255e-02],\n",
    "        [2.441328e-01],\n",
    "        [-5.528427e-02],\n",
    "        [-5.774056e-02],\n",
    "        [-3.624141e-02],\n",
    "        [-1.385253e-01],\n",
    "        [2.113887e-01],\n",
    "        [4.293215e-02],\n",
    "        [-7.668623e-02],\n",
    "        [-1.267691e-01],\n",
    "        [3.765783e-03],\n",
    "        [1.465808e-01],\n",
    "        [2.710706e-02],\n",
    "        [6.954837e-03],\n",
    "        [-1.363490e-01],\n",
    "        [1.100747e-01],\n",
    "        [-2.595972e-01],\n",
    "        [7.837806e-02],\n",
    "        [-5.963350e-02],\n",
    "        [-9.465257e-03],\n",
    "        [1.992940e-01],\n",
    "        [1.081944e-02],\n",
    "   ])\n",
    "\n",
    "    # standard deviations of asset returns \n",
    "    sigmas = np.array([\n",
    "        [2.412026e-01],\n",
    "        [9.836163e-02],\n",
    "        [8.892398e-02],\n",
    "        [3.176707e-01],\n",
    "        [2.709629e-01],\n",
    "        [4.297720e-01],\n",
    "        [3.454919e-01],\n",
    "        [4.021115e-01],\n",
    "        [4.301839e-01],\n",
    "        [2.693837e-01],\n",
    "        [2.073825e-01],\n",
    "        [1.649149e-01],\n",
    "        [3.137776e-01],\n",
    "        [3.958668e-01],\n",
    "        [1.851636e-01],\n",
    "        [1.934122e-01],\n",
    "        [3.474158e-01],\n",
    "        [4.082042e-01],\n",
    "        [4.021908e-01],\n",
    "        [2.399173e-01],\n",
    "        [1.282238e-01],\n",
    "        [3.599238e-01],\n",
    "        [2.555882e-01],\n",
    "        [3.498137e-01],\n",
    "        [2.583165e-01],\n",
    "        [2.955634e-01],\n",
    "        [1.470161e-01],\n",
    "        [2.495283e-01],\n",
    "        [2.775099e-01],\n",
    "        [3.687146e-01],\n",
    "        [3.448759e-01],\n",
    "        [1.207333e-01],\n",
    "        [4.334230e-01],\n",
    "        [2.956466e-01],\n",
    "        [2.185491e-01],\n",
    "        [4.060458e-01],\n",
    "        [1.539531e-01],\n",
    "        [3.900593e-01],\n",
    "        [3.492380e-01],\n",
    "        [3.201460e-01],\n",
    "    ])\n",
    "\n",
    "    # factor loading matrix\n",
    "    F = np.array([\n",
    "        [0,4.513325e-01,0,0,0,0,0,0,0,0,-8.628490e-01,0,0,-2.130824e-01,0,0,0,-9.870088e-01,4.896617e-01,0,0,0,0,0,0,0,0,0,0,0,0,0,0,0,0,0,0,0,0,-6.034245e-01],\n",
    "        [-6.983963e-01,0,0,0,0,0,0,0,0,0,0,0,0,-2.609618e-01,-3.376236e-01,0,0,0,-1.018224e+00,0,0,-4.260414e-01,0,0,0,0,0,0,0,0,1.647923e+00,-1.701690e-01,1.186121e+00,0,0,0,0,-7.491083e-01,0,0],\n",
    "        [0,0,0,8.362688e-01,0,0,0,-1.302310e+00,0,0,9.234870e-01,-2.280104e-01,0,0,0,-1.579673e+00,0,0,0,1.350863e-01,0,0,0,-7.194333e-02,0,0,0,-5.103924e-02,0,1.286124e+00,0,1.403337e+00,5.818706e-01,0,0,0,0,0,0,0],\n",
    "        [1.649524e+00,0,0,0,0,0,-1.628774e+00,0,0,0,0,0,0,2.098262e+00,0,0,0,-6.024618e-02,0,0,-2.261465e+00,0,0,0,0,-3.065255e-01,0,0,0,0,0,0,0,-9.055355e-01,0,0,0,0,0,0],\n",
    "        [0,0,0,-2.626506e-01,0,0,0,0,0,0,0,0,0,8.142265e-01,0,0,0,0,0,0,0,4.042442e-01,0,-1.182284e+00,0,0,0,0,-1.249714e+00,3.571231e-01,0,0,0,0,0,0,0,0,0,0],\n",
    "        [0,0,0,0,2.333656e+00,0,0,1.356463e+00,0,0,0,0,0,-1.472593e-01,0,0,0,-8.897301e-01,1.278745e+00,0,0,0,0,0,0,0,-5.706142e-01,0,0,-1.976974e+00,1.676693e+00,6.995117e-01,0,-3.134126e-02,0,1.440315e-01,0,0,0,0],\n",
    "        [0,0,-1.664936e+00,0,0,0,0,0,0,0,0,0,0,0,0,1.144839e+00,3.378373e-01,0,1.821861e+00,0,0,0,0,0,1.048065e+00,0,0,0,0,0,0,0,0,0,0,0,0,0,0,0],\n",
    "        [0,0,0,0,5.284124e-02,0,5.585971e-02,0,0,0,0,1.805302e+00,0,0,0,0,1.203747e+00,-2.717106e-01,0,0,0,0,0,0,-2.150712e+00,0,0,0,0,0,0,0,0,0,-3.022067e-01,0,0,0,0,0],\n",
    "        [0,0,0,0,0,0,0,0,0,0,0,0,0,9.337716e-01,0,0,0,0,0,0,6.322444e-01,0,0,0,0,0,0,1.508306e-01,0,0,1.569423e+00,0,1.411575e+00,0,0,0,0,0,0,0],\n",
    "        [0,0,0,0,-4.240209e-01,0,-1.161277e+00,-9.835142e-01,0,-4.623882e-01,0,0,0,0,0,0,0,9.714951e-01,0,0,0,0,0,0,0,0,0,0,0,0,0,9.088481e-01,-2.979568e-01,0,0,0,0,0,3.631312e-02,0],\n",
    "    ])\n",
    "    \n",
    "    return n,k,lam, mu, sigmas, F\n"
   ]
  },
  {
   "cell_type": "code",
   "execution_count": 264,
   "metadata": {},
   "outputs": [],
   "source": [
    "def solveProblem4(n, k, lam, mu, sigmas, F):\n",
    "    Sigma = np.diag(sigmas.flatten() ** 2)\n",
    "    One = np.ones((n,1))\n",
    "    row1 = np.concatenate([2 * lam * Sigma, One.copy(), F.T.copy()], axis=1)\n",
    "    row2 = np.concatenate([One.T, np.zeros((1, 1 + k))],axis=1)\n",
    "    row3 = np.concatenate([F, np.zeros((k, 1 + k))], axis=1)\n",
    "    A = np.concatenate([row1, row2, row3])\n",
    "    \n",
    "    y = np.concatenate([mu, [[1]], np.zeros((k,1))])\n",
    "    x = np.dot(np.linalg.inv(A), y)\n",
    "    optimalPortfolio = x[:n]\n",
    "    print(\"The optimal portfolio is presented below:\")\n",
    "    print(optimalPortfolio.shape)\n",
    "    # print(optimalPortfolio)\n",
    "    print(\"The return associated with this portfolio is r = %s.\" % (\n",
    "        np.dot(mu.T, optimalPortfolio)))\n",
    "    print(\"The idiosyncratic risk is: %s.\" % (np.dot(np.dot(optimalPortfolio.T, Sigma), optimalPortfolio)))\n",
    "    \n",
    "    # Verify that 1^Tx = 1\n",
    "    assert np.allclose(np.dot(One.T, optimalPortfolio), 1)\n",
    "    # Verify R^{fact} = Fx = 0\n",
    "    assert np.allclose(np.dot(F, optimalPortfolio), 0)"
   ]
  },
  {
   "cell_type": "code",
   "execution_count": 265,
   "metadata": {},
   "outputs": [
    {
     "name": "stdout",
     "output_type": "stream",
     "text": [
      "The optimal portfolio is presented below:\n",
      "(40, 1)\n",
      "The return associated with this portfolio is r = [[26.70627504]].\n",
      "The idiosyncratic risk is: [[133.62972408]].\n"
     ]
    }
   ],
   "source": [
    "solveProblem4(*getProblem4Inputs())"
   ]
  },
  {
   "cell_type": "markdown",
   "metadata": {},
   "source": [
    "## Problem 6: Controlling a system using the initial conditions"
   ]
  },
  {
   "cell_type": "code",
   "execution_count": null,
   "metadata": {},
   "outputs": [],
   "source": [
    "def getProblem6Inputs():\n",
    "    t = 10\n",
    "    A = np.array([\n",
    "        [0, 0, 1, 0],\n",
    "        [0, 0, 0, 1],\n",
    "        [-2, 1, 0, 0],\n",
    "        [1, -1, 0, 0]\n",
    "    ])\n",
    "    expA = linalg.expm(t * A)\n",
    "    E = expA[:, 2:]\n",
    "    assert E.shape == (4, 2)\n",
    "    return E"
   ]
  },
  {
   "cell_type": "code",
   "execution_count": 208,
   "metadata": {},
   "outputs": [],
   "source": [
    "E = getProblem6Inputs()"
   ]
  },
  {
   "cell_type": "markdown",
   "metadata": {},
   "source": [
    "### Part (a)"
   ]
  },
  {
   "cell_type": "code",
   "execution_count": 236,
   "metadata": {},
   "outputs": [],
   "source": [
    "alpha = E[1,:].T * 1 / np.dot(E[1,:], E[1,:].T) * 2"
   ]
  },
  {
   "cell_type": "code",
   "execution_count": 237,
   "metadata": {},
   "outputs": [
    {
     "data": {
      "text/plain": [
       "array([ 2.46135192, -9.46473528])"
      ]
     },
     "execution_count": 237,
     "metadata": {},
     "output_type": "execute_result"
    }
   ],
   "source": [
    "alpha"
   ]
  },
  {
   "cell_type": "code",
   "execution_count": 238,
   "metadata": {},
   "outputs": [
    {
     "data": {
      "text/plain": [
       "2.0"
      ]
     },
     "execution_count": 238,
     "metadata": {},
     "output_type": "execute_result"
    }
   ],
   "source": [
    "np.dot(E[1,:],alpha)"
   ]
  },
  {
   "cell_type": "markdown",
   "metadata": {},
   "source": [
    "### Part (b)"
   ]
  },
  {
   "cell_type": "code",
   "execution_count": 239,
   "metadata": {},
   "outputs": [],
   "source": [
    "alpha = np.dot(np.linalg.inv(E[:2,:]), np.array([[1],[2]]))"
   ]
  },
  {
   "cell_type": "code",
   "execution_count": 240,
   "metadata": {},
   "outputs": [
    {
     "data": {
      "text/plain": [
       "array([[ -6.44083425],\n",
       "       [-11.77979348]])"
      ]
     },
     "execution_count": 240,
     "metadata": {},
     "output_type": "execute_result"
    }
   ],
   "source": [
    "alpha"
   ]
  },
  {
   "cell_type": "code",
   "execution_count": 241,
   "metadata": {},
   "outputs": [
    {
     "data": {
      "text/plain": [
       "array([[1.],\n",
       "       [2.]])"
      ]
     },
     "execution_count": 241,
     "metadata": {},
     "output_type": "execute_result"
    }
   ],
   "source": [
    "np.dot(E[:2,:], alpha)"
   ]
  },
  {
   "cell_type": "markdown",
   "metadata": {},
   "source": [
    "### Part (c)"
   ]
  },
  {
   "cell_type": "code",
   "execution_count": 242,
   "metadata": {},
   "outputs": [],
   "source": [
    "q = np.array([[1],[2],[0],[0]])\n",
    "alpha = np.dot(np.linalg.inv(np.dot(E.T, E)), np.dot(E.T, q))"
   ]
  },
  {
   "cell_type": "code",
   "execution_count": 243,
   "metadata": {},
   "outputs": [
    {
     "data": {
      "text/plain": [
       "array([[-0.13614458],\n",
       "       [-0.34345832]])"
      ]
     },
     "execution_count": 243,
     "metadata": {},
     "output_type": "execute_result"
    }
   ],
   "source": [
    "alpha"
   ]
  },
  {
   "cell_type": "code",
   "execution_count": 246,
   "metadata": {},
   "outputs": [
    {
     "data": {
      "text/plain": [
       "array([[ 0.01627571],\n",
       "       [ 0.06097153],\n",
       "       [-0.23927003],\n",
       "       [-0.27746388]])"
      ]
     },
     "execution_count": 246,
     "metadata": {},
     "output_type": "execute_result"
    }
   ],
   "source": [
    "np.dot(E, alpha)"
   ]
  },
  {
   "cell_type": "code",
   "execution_count": 247,
   "metadata": {},
   "outputs": [
    {
     "data": {
      "text/plain": [
       "2.204944721263555"
      ]
     },
     "execution_count": 247,
     "metadata": {},
     "output_type": "execute_result"
    }
   ],
   "source": [
    "# Compute the RMSE\n",
    "np.linalg.norm(q - np.dot(E, alpha))"
   ]
  },
  {
   "cell_type": "markdown",
   "metadata": {},
   "source": [
    "### Part (d)"
   ]
  },
  {
   "cell_type": "code",
   "execution_count": 248,
   "metadata": {},
   "outputs": [],
   "source": [
    "def getProblem6Inputs2():\n",
    "    t = 10\n",
    "    A = np.array([\n",
    "        [0, 0, 1, 0],\n",
    "        [0, 0, 0, 1],\n",
    "        [-2, 1, 0, 0],\n",
    "        [1.0/1.3, -1.0/1.3, 0, 0]\n",
    "    ])\n",
    "    expA = linalg.expm(t * A)\n",
    "    E = expA[:, 2:]\n",
    "    assert E.shape == (4, 2)\n",
    "    return E"
   ]
  },
  {
   "cell_type": "code",
   "execution_count": 250,
   "metadata": {},
   "outputs": [],
   "source": [
    "Ep = getProblem6Inputs2()"
   ]
  },
  {
   "cell_type": "code",
   "execution_count": 257,
   "metadata": {},
   "outputs": [],
   "source": [
    "A = np.stack((E[1,:], Ep[1,:]))\n",
    "alpha = np.dot(np.linalg.inv(A), np.array([[2],[2]]))"
   ]
  },
  {
   "cell_type": "code",
   "execution_count": 258,
   "metadata": {},
   "outputs": [
    {
     "data": {
      "text/plain": [
       "array([[10.78304166],\n",
       "       [-7.30063808]])"
      ]
     },
     "execution_count": 258,
     "metadata": {},
     "output_type": "execute_result"
    }
   ],
   "source": [
    "alpha"
   ]
  },
  {
   "cell_type": "code",
   "execution_count": 259,
   "metadata": {},
   "outputs": [
    {
     "data": {
      "text/plain": [
       "array([[2.],\n",
       "       [2.]])"
      ]
     },
     "execution_count": 259,
     "metadata": {},
     "output_type": "execute_result"
    }
   ],
   "source": [
    "np.dot(A, alpha)"
   ]
  }
 ],
 "metadata": {
  "kernelspec": {
   "display_name": "ee263",
   "language": "python",
   "name": "ee263"
  },
  "language_info": {
   "codemirror_mode": {
    "name": "ipython",
    "version": 3
   },
   "file_extension": ".py",
   "mimetype": "text/x-python",
   "name": "python",
   "nbconvert_exporter": "python",
   "pygments_lexer": "ipython3",
   "version": "3.7.2"
  }
 },
 "nbformat": 4,
 "nbformat_minor": 2
}
