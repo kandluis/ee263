{
 "cells": [
  {
   "cell_type": "markdown",
   "metadata": {},
   "source": [
    "# HW3\n",
    "\n",
    "author: Luis Perez\n",
    "\n",
    "email: luis0@stanford.edu"
   ]
  },
  {
   "cell_type": "markdown",
   "metadata": {},
   "source": [
    "# Imports"
   ]
  },
  {
   "cell_type": "code",
   "execution_count": 1,
   "metadata": {},
   "outputs": [],
   "source": [
    "import numpy as np\n",
    "import pprint\n",
    "from scipy import linalg\n",
    "import seaborn as sns"
   ]
  },
  {
   "cell_type": "markdown",
   "metadata": {},
   "source": [
    "## Problem 1: Memory of a linear, time-invariant system\n",
    "### Part (b)"
   ]
  },
  {
   "cell_type": "code",
   "execution_count": 2,
   "metadata": {},
   "outputs": [],
   "source": [
    "# Number of samples\n",
    "T = 100\n",
    "# The input\n",
    "u = np.array([\n",
    "    0.7700,\n",
    "    0.0600,\n",
    "    0.0100,\n",
    "    0.8000,\n",
    "    0.6600,\n",
    "    0.9600,\n",
    "    0.0300,\n",
    "    0.3200,\n",
    "    0.9700,\n",
    "    0.9400,\n",
    "    0.3600,\n",
    "    0.4100,\n",
    "    0.7000,\n",
    "    0.1700,\n",
    "    0.1500,\n",
    "    0.5000,\n",
    "    0.9600,\n",
    "    0.7300,\n",
    "    0.0800,\n",
    "    0.9000,\n",
    "    0.6800,\n",
    "    0.1100,\n",
    "    0.8500,\n",
    "    0.1900,\n",
    "    0.1600,\n",
    "    0.8900,\n",
    "    0.0700,\n",
    "    0.8300,\n",
    "    0.2600,\n",
    "    0.9700,\n",
    "    0.9100,\n",
    "    0.3800,\n",
    "    0.4100,\n",
    "    0.7000,\n",
    "    0.3200,\n",
    "    0.7200,\n",
    "    0.8600,\n",
    "    0.1700,\n",
    "    0.2600,\n",
    "    0.1900,\n",
    "    0.9100,\n",
    "    0.9800,\n",
    "    0.7900,\n",
    "    0.3300,\n",
    "    0.4300,\n",
    "    0.8200,\n",
    "    0.3800,\n",
    "    0.5300,\n",
    "    0.9000,\n",
    "    0.8300,\n",
    "    0.7900,\n",
    "    0.3600,\n",
    "    0.0300,\n",
    "    0.1700,\n",
    "    0.8500,\n",
    "    0.6800,\n",
    "    0.2100,\n",
    "    0.6400,\n",
    "    0.5000,\n",
    "    0.5100,\n",
    "    0.6000,\n",
    "    0.1900,\n",
    "    0.7400,\n",
    "    0.9800,\n",
    "    0.2100,\n",
    "    0.1900,\n",
    "    0.3300,\n",
    "    0.1900,\n",
    "    0.3900,\n",
    "    0.5900,\n",
    "    0.8900,\n",
    "    0.8500,\n",
    "    0.5200,\n",
    "    0.3700,\n",
    "    0.9600,\n",
    "    0.8400,\n",
    "    0.4900,\n",
    "    0.5400,\n",
    "    0.8700,\n",
    "    0.0500,\n",
    "    0.0500,\n",
    "    0.3800,\n",
    "    0.4000,\n",
    "    0.7800,\n",
    "    0.4500,\n",
    "    0.4100,\n",
    "    0.5300,\n",
    "    0.8900,\n",
    "    0.9800,\n",
    "    0.9300,\n",
    "    0.1900,\n",
    "    0.9900,\n",
    "    0.5800,\n",
    "    0.6500,\n",
    "    0.2600,\n",
    "    0.0900,\n",
    "    0.0400,\n",
    "    0.1700,\n",
    "    0.6800,\n",
    "    0.3900\n",
    "])\n",
    "\n",
    "# The output.\n",
    "y = np.array([\n",
    "    1.9663,\n",
    "    2.5611,\n",
    "    2.0898,\n",
    "    1.2280,\n",
    "    1.2092,\n",
    "    1.4403,\n",
    "    1.6056,\n",
    "    1.0081,\n",
    "    1.2782,\n",
    "    2.4515,\n",
    "    2.7882,\n",
    "    1.8628,\n",
    "    1.5105,\n",
    "    2.1557,\n",
    "    2.4086,\n",
    "    1.9909,\n",
    "    1.7859,\n",
    "    2.0328,\n",
    "    1.8014,\n",
    "    1.0792,\n",
    "    1.6591,\n",
    "    2.4087,\n",
    "    2.1433,\n",
    "    2.1237,\n",
    "    1.8788,\n",
    "    1.7544,\n",
    "    2.0878,\n",
    "    1.5912,\n",
    "    1.6593,\n",
    "    1.4437,\n",
    "    1.8176,\n",
    "    2.1338,\n",
    "    1.8734,\n",
    "    1.8083,\n",
    "    2.4560,\n",
    "    2.4541,\n",
    "    2.3812,\n",
    "    2.1748,\n",
    "    1.7084,\n",
    "    1.6541,\n",
    "    1.8287,\n",
    "    2.3495,\n",
    "    2.2745,\n",
    "    1.6575,\n",
    "    1.2851,\n",
    "    1.9121,\n",
    "    2.8243,\n",
    "    2.6995,\n",
    "    2.1301,\n",
    "    2.1108,\n",
    "    2.2646,\n",
    "    2.2775,\n",
    "    2.0367,\n",
    "    1.9813,\n",
    "    2.3103,\n",
    "    2.6761,\n",
    "    2.1503,\n",
    "    1.1300,\n",
    "    1.1453,\n",
    "    1.7349,\n",
    "    2.0853,\n",
    "    2.0011,\n",
    "    1.6036,\n",
    "    1.9028,\n",
    "    2.3020,\n",
    "    1.7725,\n",
    "    1.4568,\n",
    "    1.7929,\n",
    "    2.0215,\n",
    "    1.8469,\n",
    "    1.4356,\n",
    "    1.3920,\n",
    "    1.5152,\n",
    "    1.4999,\n",
    "    1.7441,\n",
    "    2.6239,\n",
    "    2.9211,\n",
    "    2.4077,\n",
    "    2.0847,\n",
    "    2.5268,\n",
    "    2.3471,\n",
    "    1.9722,\n",
    "    1.9461,\n",
    "    1.9477,\n",
    "    1.7484,\n",
    "    1.1384,\n",
    "    0.9787,\n",
    "    1.5102,\n",
    "    2.1821,\n",
    "    2.3770,\n",
    "    2.2443,\n",
    "    1.8250,\n",
    "    2.6027,\n",
    "    3.0107,\n",
    "    2.8894,\n",
    "    2.2339,\n",
    "    1.9132,\n",
    "    1.8799,\n",
    "    1.8463,\n",
    "    1.6423\n",
    "])\n",
    "assert y.shape[0] == u.shape[0]\n",
    "assert u.shape[0] == T"
   ]
  },
  {
   "cell_type": "code",
   "execution_count": 3,
   "metadata": {},
   "outputs": [],
   "source": [
    "def isValidMemory(M, u, y, eps=1e-4):\n",
    "    \"\"\"Uses the process described in the homework to check if\n",
    "    M is a valid memory value for the given inputs u and outputs y.\n",
    "    \"\"\"\n",
    "    # Creates the A matrix described in the handout.\n",
    "    T = y.shape[0]\n",
    "    A = linalg.toeplitz(c=u[M-1:T-1], r=np.flip(u[:M]))\n",
    "    assert u.shape[0] == T\n",
    "    assert A.shape == (T-M, M)\n",
    "\n",
    "    # Find the closests hs that work.\n",
    "    ybar = y[M:]\n",
    "    hbar = np.dot(np.linalg.inv(np.dot(A.T, A)), np.dot(A.T, ybar))\n",
    "    return np.linalg.norm(ybar - np.dot(A, hbar)) < eps, hbar"
   ]
  },
  {
   "cell_type": "code",
   "execution_count": 4,
   "metadata": {},
   "outputs": [],
   "source": [
    "def findSmallestValidM(u,y):\n",
    "    T = u.shape[0]\n",
    "    for m in range(1, T // 2):\n",
    "        isValid, candidate = isValidMemory(m,u,y)\n",
    "        import pdb\n",
    "        pdb.set_trace\n",
    "        if isValid:\n",
    "            return m, candidate\n",
    "    assert False"
   ]
  },
  {
   "cell_type": "code",
   "execution_count": 5,
   "metadata": {},
   "outputs": [
    {
     "name": "stdout",
     "output_type": "stream",
     "text": [
      "The memory of our given data is 7.\n",
      "array([0.63, 0.27, 0.02, 0.37, 0.96, 0.95, 0.46])\n"
     ]
    }
   ],
   "source": [
    "smallestM, weights = findSmallestValidM(u,y)\n",
    "print(\"The memory of our given data is %s.\" % smallestM)\n",
    "pprint.pprint(weights)"
   ]
  },
  {
   "cell_type": "markdown",
   "metadata": {},
   "source": [
    "## Problem 3: Sensor integrity monitor"
   ]
  },
  {
   "cell_type": "code",
   "execution_count": 6,
   "metadata": {},
   "outputs": [],
   "source": [
    "# Copied from homework assignment.\n",
    "A = np.array([\n",
    "    [1, 2, 3],\n",
    "    [1, -1, -2],\n",
    "    [-2, 1, 3],\n",
    "    [1, -1, -2],\n",
    "    [1, 1, 0]\n",
    "])"
   ]
  },
  {
   "cell_type": "code",
   "execution_count": 7,
   "metadata": {},
   "outputs": [],
   "source": [
    "def findBMatrix(A, eps=1e-3):\n",
    "    B = linalg.null_space(A.T).T\n",
    "    B[np.abs(B) < eps] = 0\n",
    "    B /= np.abs(B[B != 0]).min()\n",
    "    return B"
   ]
  },
  {
   "cell_type": "code",
   "execution_count": 8,
   "metadata": {},
   "outputs": [],
   "source": [
    "B = findBMatrix(A)"
   ]
  },
  {
   "cell_type": "code",
   "execution_count": 9,
   "metadata": {},
   "outputs": [],
   "source": [
    "def checkMatrixIsIntegrityMonitor(measureMatrix, integrityMonitor, eps=1e-3):\n",
    "    M, N = measureMatrix.shape\n",
    "    # Generate all unit vectors in input space.\n",
    "    inputBasis = np.identity(N)\n",
    "    \n",
    "    # Assert all consistent values will output zero by monitor.\n",
    "    for i in range(N):\n",
    "        measurement = np.dot(measureMatrix, inputBasis[:,i])\n",
    "        assert np.linalg.norm(np.dot(integrityMonitor, measurement)) < eps\n",
    "        \n",
    "        # Inconsistent by adding random noise (high likelihood)\n",
    "        badMeasurement = measurement + np.random.rand(M)\n",
    "        assert np.linalg.norm(np.dot(integrityMonitor, badMeasurement)) > eps"
   ]
  },
  {
   "cell_type": "code",
   "execution_count": 10,
   "metadata": {},
   "outputs": [],
   "source": [
    "checkMatrixIsIntegrityMonitor(A, B)"
   ]
  },
  {
   "cell_type": "code",
   "execution_count": 11,
   "metadata": {},
   "outputs": [
    {
     "data": {
      "text/plain": [
       "array([[ 0.        , -5.47259193,  2.        ,  8.47259193,  1.        ],\n",
       "       [ 0.        ,  6.97831636,  6.39848918,  2.61941742,  3.19924459]])"
      ]
     },
     "execution_count": 11,
     "metadata": {},
     "output_type": "execute_result"
    }
   ],
   "source": [
    "B"
   ]
  },
  {
   "cell_type": "markdown",
   "metadata": {},
   "source": [
    "## Problem 4: Coin collector robot\n",
    "### Part (c)"
   ]
  },
  {
   "cell_type": "code",
   "execution_count": 12,
   "metadata": {},
   "outputs": [],
   "source": [
    "n=6;\n",
    "x = [\n",
    "    0.5000,\n",
    "    2.0000,\n",
    "    2.0000,\n",
    "   -2.0000,\n",
    "   -4.5000,\n",
    "         0,\n",
    "   13.0000,\n",
    "   -4.0000,\n",
    "   -6.0000,\n",
    "   12.0000,\n",
    "   22.5000,\n",
    "   -2.0000]"
   ]
  },
  {
   "cell_type": "code",
   "execution_count": 13,
   "metadata": {},
   "outputs": [
    {
     "data": {
      "text/plain": [
       "[Text(0, 0.5, 'y-position'), Text(0.5, 0, 'x-position')]"
      ]
     },
     "execution_count": 13,
     "metadata": {},
     "output_type": "execute_result"
    },
    {
     "data": {
      "image/png": "[encoded data removed]",
      "text/plain": [
       "<Figure size 432x288 with 1 Axes>"
      ]
     },
     "metadata": {
      "needs_background": "light"
     },
     "output_type": "display_data"
    }
   ],
   "source": [
    "# Plot of the coins.\n",
    "ax = sns.scatterplot(x=x, y=range(1,2*n + 1))\n",
    "ax.set_title(\"Coins for Coin Collector Robot\")\n",
    "ax.set(xlabel='x-position', ylabel='y-position')"
   ]
  },
  {
   "cell_type": "code",
   "execution_count": 14,
   "metadata": {},
   "outputs": [],
   "source": [
    "def generateAMatrix(n, missingRowIndex=None):\n",
    "    \"\"\"\n",
    "    Generates A as specified in the handout with \n",
    "    missingRowIndex missing (if set).\n",
    "    \"\"\"\n",
    "    def generateCRow(t):\n",
    "        c = np.zeros(n)\n",
    "        for i in range(t // 2):\n",
    "                c[i] = 2 + 2*(t - 2*(i+1))\n",
    "        # If t is odd, we need to add the final push.\n",
    "        if t % 2 != 0:\n",
    "            c[t // 2] = 0.5\n",
    "        return c\n",
    "    return np.stack([generateCRow(i+1) for i in range(2*n)\n",
    "                     if missingRowIndex is None or missingRowIndex != i]) "
   ]
  },
  {
   "cell_type": "code",
   "execution_count": 15,
   "metadata": {},
   "outputs": [],
   "source": [
    "def isCollectible(x, n, missingRowIndex=None, eps=1e-3):\n",
    "    \"\"\"Returns true if the coins with the given x-coordinates are collectible\"\"\"\n",
    "    A = generateAMatrix(n, missingRowIndex)\n",
    "    fhat = np.dot(np.linalg.inv(np.dot(A.T, A)), np.dot(A.T,x))\n",
    "    if linalg.norm(np.dot(A, fhat) - x) < eps:\n",
    "        return fhat\n",
    "    return None"
   ]
  },
  {
   "cell_type": "code",
   "execution_count": 16,
   "metadata": {},
   "outputs": [
    {
     "name": "stdout",
     "output_type": "stream",
     "text": [
      "The coins cannot be collected.\n"
     ]
    }
   ],
   "source": [
    "if isCollectible(x, n):\n",
    "    print(\"The coins can be collected.\")\n",
    "else:\n",
    "    print(\"The coins cannot be collected.\")"
   ]
  },
  {
   "cell_type": "code",
   "execution_count": 17,
   "metadata": {},
   "outputs": [],
   "source": [
    "def collectAllButOne(x, n):\n",
    "    \"\"\"Tries to collect all coins except 1.\n",
    "    \n",
    "    Returns the forces and the index of the bad coin.\n",
    "    \"\"\"\n",
    "    indexes = []\n",
    "    forces = []\n",
    "    coins = []\n",
    "    for i in range(2*n):\n",
    "        xMissing = np.delete(x, i)\n",
    "        maybeFhat = isCollectible(xMissing, n, missingRowIndex=i)\n",
    "        if maybeFhat is not None:\n",
    "            indexes.append(i)\n",
    "            forces.append(maybeFhat)\n",
    "            coins.append((x[i], i+1))\n",
    "    assert len(indexes) == 1\n",
    "    assert len(forces) == 1\n",
    "    assert len(coins) == 1\n",
    "    return indexes[0], coins[0], forces[0],"
   ]
  },
  {
   "cell_type": "code",
   "execution_count": 18,
   "metadata": {},
   "outputs": [],
   "source": [
    "badCoinIndex, badCoin, forcesToCollectAllButOne = collectAllButOne(x, n)"
   ]
  },
  {
   "cell_type": "code",
   "execution_count": 19,
   "metadata": {},
   "outputs": [
    {
     "name": "stdout",
     "output_type": "stream",
     "text": [
      "The 7-th coin (1-indexed) is the coin which cannot be collected.\n",
      "The bad coin is located at (13.0,7).\n"
     ]
    }
   ],
   "source": [
    "print(\"The %s-th coin (1-indexed) is the coin which cannot be collected.\" % (badCoinIndex + 1))\n",
    "print(\"The bad coin is located at (%s,%s).\" % (badCoin))"
   ]
  },
  {
   "cell_type": "code",
   "execution_count": 20,
   "metadata": {},
   "outputs": [
    {
     "data": {
      "image/png": "[encoded data removed]",
      "text/plain": [
       "<Figure size 432x288 with 1 Axes>"
      ]
     },
     "metadata": {
      "needs_background": "light"
     },
     "output_type": "display_data"
    }
   ],
   "source": [
    "validA = generateAMatrix(n, missingRowIndex=badCoinIndex)\n",
    "robotXPositions = np.dot(validA, forcesToCollectAllButOne)\n",
    "\n",
    "# Generate the plot for everything (except the missing coin)\n",
    "ax = sns.scatterplot(x=x, y=range(1,2*n + 1), marker=\"+\", label=\"Coins\")\n",
    "ax = sns.scatterplot(x=robotXPositions,\n",
    "                     y=list(range(1,badCoinIndex + 1)) + list(range(badCoinIndex + 2, 2*n + 1)),\n",
    "                     marker='x', label=\"Robot\")\n",
    "ax.set_title(\"Coins for Coin Collector Robot\")\n",
    "ax.set(xlabel='x-position', ylabel='y-position')\n",
    "ax.get_figure().savefig(\"robot_collector\")"
   ]
  },
  {
   "cell_type": "markdown",
   "metadata": {},
   "source": [
    "## Problem 6: Quadratic Extrapolation of Time Series using Least-Squares Fit\n",
    "### Part (a)"
   ]
  },
  {
   "cell_type": "code",
   "execution_count": 23,
   "metadata": {},
   "outputs": [],
   "source": [
    "def computeCMatrix(t):\n",
    "    \"\"\"\n",
    "    For a given value of t, computes the C matrix\n",
    "    as defined in the handout.\n",
    "    \"\"\"\n",
    "    PAST_SAMPLES = 10\n",
    "    F1 = [1] * PAST_SAMPLES\n",
    "    F2 = [t - i for i in range(PAST_SAMPLES)]\n",
    "    F3 = [(t - i)**2 for i in range(PAST_SAMPLES)]\n",
    "    F = np.stack((F1, F2, F3), axis=1)\n",
    "    t = np.array([1, t + 1, (t + 1)**2])\n",
    "    C = np.dot(np.dot(t, np.linalg.inv(np.dot(F.T, F))), F.T)\n",
    "    return C"
   ]
  },
  {
   "cell_type": "code",
   "execution_count": 24,
   "metadata": {},
   "outputs": [],
   "source": [
    "def verifiyCIsTimeInvariant(eps=1e-4):\n",
    "    for t in range(1000):\n",
    "        C1 = computeCMatrix(t + 1)\n",
    "        C2 = computeCMatrix(t + 2)\n",
    "        if not linalg.norm(C1 - C2) < eps:\n",
    "            print(linalg.norm(C1 - C2))\n",
    "    return computeCMatrix(1)"
   ]
  },
  {
   "cell_type": "code",
   "execution_count": 25,
   "metadata": {},
   "outputs": [
    {
     "data": {
      "text/plain": [
       "array([ 0.9       ,  0.5       ,  0.18333333, -0.05      , -0.2       ,\n",
       "       -0.26666667, -0.25      , -0.15      ,  0.03333333,  0.3       ])"
      ]
     },
     "execution_count": 25,
     "metadata": {},
     "output_type": "execute_result"
    }
   ],
   "source": [
    "computeCMatrix(1)"
   ]
  },
  {
   "cell_type": "code",
   "execution_count": 26,
   "metadata": {},
   "outputs": [
    {
     "data": {
      "text/plain": [
       "array([ 0.90000038,  0.4999995 ,  0.18333217, -0.0500016 , -0.20000182,\n",
       "       -0.26666848, -0.2500016 , -0.15000115,  0.03333284,  0.30000039])"
      ]
     },
     "execution_count": 26,
     "metadata": {},
     "output_type": "execute_result"
    }
   ],
   "source": [
    "computeCMatrix(1000)"
   ]
  },
  {
   "cell_type": "markdown",
   "metadata": {},
   "source": [
    "### Part (b)"
   ]
  },
  {
   "cell_type": "code",
   "execution_count": 27,
   "metadata": {},
   "outputs": [],
   "source": [
    "def generateTrueTimeSeries():\n",
    "    # Generates the vector [1, ..., 1000]\n",
    "    t = np.array(range(1, 1001))\n",
    "    z = 5 * np.sin(t / 10 + 2) + 0.1 * np.sin(t) + 0.1 * np.sin(2*t - 5)\n",
    "    return z"
   ]
  },
  {
   "cell_type": "code",
   "execution_count": 28,
   "metadata": {},
   "outputs": [],
   "source": [
    "def computeExtrapolationFromValues(values):\n",
    "    assert len(values) == 10\n",
    "    c = computeCMatrix(1)\n",
    "    for _ in range(11, 1001):\n",
    "        newValue = np.dot(c, np.flip(values[len(values)-10:]))\n",
    "        values = np.append(values, newValue)\n",
    "    return values\n",
    "\n",
    "def computeEstimatesUsingTrueValues(values):\n",
    "    c = computeCMatrix(1)\n",
    "    estimates = values[:10].tolist()\n",
    "    for i in range(10, 1000):\n",
    "        estimates.append(np.dot(c, np.flip(values[i-10:i])))\n",
    "    return np.array(estimates)"
   ]
  },
  {
   "cell_type": "code",
   "execution_count": 29,
   "metadata": {},
   "outputs": [],
   "source": [
    "def getRMSE(true, predictions):\n",
    "    return np.sqrt(np.sum((true[10:] - predictions[10:])**2) / np.sum(true[10:]**2))"
   ]
  },
  {
   "cell_type": "code",
   "execution_count": 30,
   "metadata": {},
   "outputs": [],
   "source": [
    "true = generateTrueTimeSeries()\n",
    "predsUsingOnlyInitial = computeExtrapolationFromValues(true[:10])\n",
    "predsUsingRealValues = computeEstimatesUsingTrueValues(true)\n",
    "extrapolateRMSE = getRMSE(true, predsUsingOnlyInitial)\n",
    "cheatRMSE = getRMSE(true, predsUsingRealValues)"
   ]
  },
  {
   "cell_type": "code",
   "execution_count": 31,
   "metadata": {},
   "outputs": [
    {
     "data": {
      "text/plain": [
       "0.050960852617736675"
      ]
     },
     "execution_count": 31,
     "metadata": {},
     "output_type": "execute_result"
    }
   ],
   "source": [
    "cheatRMSE"
   ]
  },
  {
   "cell_type": "code",
   "execution_count": 32,
   "metadata": {},
   "outputs": [
    {
     "data": {
      "image/png": "[encoded data removed]",
      "text/plain": [
       "<Figure size 432x288 with 1 Axes>"
      ]
     },
     "metadata": {
      "needs_background": "light"
     },
     "output_type": "display_data"
    }
   ],
   "source": [
    "MAX = 100\n",
    "ax = sns.scatterplot(x=range(1,MAX+1), y=true[:MAX], color='blue')\n",
    "ax = sns.scatterplot(x=range(1,MAX+1), y=predsUsingRealValues[:MAX], color='red')\n",
    "ax.set_title(\"Least Squares Fit on Ten Samples\")\n",
    "ax.set(xlabel='Time (t)', ylabel='Series Value (z)')\n",
    "ax.get_figure().savefig('least_squares_fit_series')"
   ]
  }
 ],
 "metadata": {
  "kernelspec": {
   "display_name": "ee263",
   "language": "python",
   "name": "ee263"
  },
  "language_info": {
   "codemirror_mode": {
    "name": "ipython",
    "version": 3
   },
   "file_extension": ".py",
   "mimetype": "text/x-python",
   "name": "python",
   "nbconvert_exporter": "python",
   "pygments_lexer": "ipython3",
   "version": "3.7.2"
  }
 },
 "nbformat": 4,
 "nbformat_minor": 2
}
